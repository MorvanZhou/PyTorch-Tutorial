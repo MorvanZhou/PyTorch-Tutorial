{
 "cells": [
  {
   "cell_type": "markdown",
   "metadata": {},
   "source": [
    "# 203 Activation\n",
    "\n",
    "View more, visit my tutorial page: https://morvanzhou.github.io/tutorials/\n",
    "My Youtube Channel: https://www.youtube.com/user/MorvanZhou\n"
   ]
  },
  {
   "cell_type": "code",
   "execution_count": 1,
   "metadata": {},
   "outputs": [],
   "source": [
    "import torch\n",
    "import torch.nn.functional as F\n",
    "from torch.autograd import Variable\n",
    "import matplotlib.pyplot as plt"
   ]
  },
  {
   "cell_type": "markdown",
   "metadata": {},
   "source": [
    "### Firstly generate some fake data"
   ]
  },
  {
   "cell_type": "code",
   "execution_count": 2,
   "metadata": {},
   "outputs": [
    {
     "name": "stdout",
     "output_type": "stream",
     "text": [
      "tensor([-5.0000, -4.9497, -4.8995, -4.8492, -4.7990, -4.7487, -4.6985, -4.6482,\n",
      "        -4.5980, -4.5477, -4.4975, -4.4472, -4.3970, -4.3467, -4.2965, -4.2462,\n",
      "        -4.1960, -4.1457, -4.0955, -4.0452, -3.9950, -3.9447, -3.8945, -3.8442,\n",
      "        -3.7940, -3.7437, -3.6935, -3.6432, -3.5930, -3.5427, -3.4925, -3.4422,\n",
      "        -3.3920, -3.3417, -3.2915, -3.2412, -3.1910, -3.1407, -3.0905, -3.0402,\n",
      "        -2.9899, -2.9397, -2.8894, -2.8392, -2.7889, -2.7387, -2.6884, -2.6382,\n",
      "        -2.5879, -2.5377, -2.4874, -2.4372, -2.3869, -2.3367, -2.2864, -2.2362,\n",
      "        -2.1859, -2.1357, -2.0854, -2.0352, -1.9849, -1.9347, -1.8844, -1.8342,\n",
      "        -1.7839, -1.7337, -1.6834, -1.6332, -1.5829, -1.5327, -1.4824, -1.4322,\n",
      "        -1.3819, -1.3317, -1.2814, -1.2312, -1.1809, -1.1307, -1.0804, -1.0302,\n",
      "        -0.9799, -0.9296, -0.8794, -0.8291, -0.7789, -0.7286, -0.6784, -0.6281,\n",
      "        -0.5779, -0.5276, -0.4774, -0.4271, -0.3769, -0.3266, -0.2764, -0.2261,\n",
      "        -0.1759, -0.1256, -0.0754, -0.0251,  0.0251,  0.0754,  0.1256,  0.1759,\n",
      "         0.2261,  0.2764,  0.3266,  0.3769,  0.4271,  0.4774,  0.5276,  0.5779,\n",
      "         0.6281,  0.6784,  0.7286,  0.7789,  0.8291,  0.8794,  0.9296,  0.9799,\n",
      "         1.0302,  1.0804,  1.1307,  1.1809,  1.2312,  1.2814,  1.3317,  1.3819,\n",
      "         1.4322,  1.4824,  1.5327,  1.5829,  1.6332,  1.6834,  1.7337,  1.7839,\n",
      "         1.8342,  1.8844,  1.9347,  1.9849,  2.0352,  2.0854,  2.1357,  2.1859,\n",
      "         2.2362,  2.2864,  2.3367,  2.3869,  2.4372,  2.4874,  2.5377,  2.5879,\n",
      "         2.6382,  2.6884,  2.7387,  2.7889,  2.8392,  2.8894,  2.9397,  2.9899,\n",
      "         3.0402,  3.0905,  3.1407,  3.1910,  3.2412,  3.2915,  3.3417,  3.3920,\n",
      "         3.4422,  3.4925,  3.5427,  3.5930,  3.6432,  3.6935,  3.7437,  3.7940,\n",
      "         3.8442,  3.8945,  3.9447,  3.9950,  4.0452,  4.0955,  4.1457,  4.1960,\n",
      "         4.2462,  4.2965,  4.3467,  4.3970,  4.4472,  4.4975,  4.5477,  4.5980,\n",
      "         4.6482,  4.6985,  4.7487,  4.7990,  4.8492,  4.8995,  4.9497,  5.0000])\n"
     ]
    }
   ],
   "source": [
    "x = torch.linspace(-5, 5, 200)  # x data (tensor), shape=(200, 1)\n",
    "x = Variable(x)\n",
    "x_np = x.data.numpy()   # numpy array for plotting\n",
    "print(x)"
   ]
  },
  {
   "cell_type": "markdown",
   "metadata": {},
   "source": [
    "### Following are popular activation functions"
   ]
  },
  {
   "cell_type": "code",
   "execution_count": 3,
   "metadata": {},
   "outputs": [
    {
     "name": "stdout",
     "output_type": "stream",
     "text": [
      "relu:\n",
      " [0.         0.         0.         0.         0.         0.\n",
      " 0.         0.         0.         0.         0.         0.\n",
      " 0.         0.         0.         0.         0.         0.\n",
      " 0.         0.         0.         0.         0.         0.\n",
      " 0.         0.         0.         0.         0.         0.\n",
      " 0.         0.         0.         0.         0.         0.\n",
      " 0.         0.         0.         0.         0.         0.\n",
      " 0.         0.         0.         0.         0.         0.\n",
      " 0.         0.         0.         0.         0.         0.\n",
      " 0.         0.         0.         0.         0.         0.\n",
      " 0.         0.         0.         0.         0.         0.\n",
      " 0.         0.         0.         0.         0.         0.\n",
      " 0.         0.         0.         0.         0.         0.\n",
      " 0.         0.         0.         0.         0.         0.\n",
      " 0.         0.         0.         0.         0.         0.\n",
      " 0.         0.         0.         0.         0.         0.\n",
      " 0.         0.         0.         0.         0.0251255  0.07537699\n",
      " 0.125628   0.17587948 0.22613049 0.27638197 0.32663298 0.37688446\n",
      " 0.42713594 0.47738695 0.52763844 0.57788944 0.6281409  0.67839193\n",
      " 0.7286434  0.7788944  0.8291459  0.8793969  0.9296484  0.9798994\n",
      " 1.0301509  1.0804019  1.1306534  1.1809044  1.2311559  1.2814069\n",
      " 1.3316584  1.3819094  1.4321609  1.4824123  1.5326633  1.5829148\n",
      " 1.6331658  1.6834173  1.7336683  1.7839198  1.8341708  1.8844223\n",
      " 1.9346733  1.9849248  2.0351758  2.0854273  2.1356783  2.1859298\n",
      " 2.2361808  2.2864323  2.3366833  2.3869348  2.4371858  2.4874372\n",
      " 2.5376887  2.5879397  2.6381912  2.6884422  2.7386937  2.7889447\n",
      " 2.8391962  2.8894472  2.9396987  2.9899497  3.0402012  3.0904522\n",
      " 3.1407032  3.1909552  3.2412062  3.2914572  3.3417082  3.3919601\n",
      " 3.4422112  3.4924622  3.5427132  3.5929651  3.6432161  3.6934671\n",
      " 3.743719   3.79397    3.844221   3.8944721  3.944724   3.994975\n",
      " 4.045226   4.095477   4.145729   4.19598    4.246231   4.296482\n",
      " 4.346734   4.396985   4.447236   4.497487   4.547739   4.59799\n",
      " 4.648241   4.698493   4.748744   4.798995   4.849246   4.899498\n",
      " 4.949749   5.        ] \n",
      "sigmoid:\n",
      " [0.00669285 0.00703534 0.00739523 0.00777338 0.00817071 0.00858818\n",
      " 0.00902677 0.00948756 0.00997163 0.01048013 0.01101428 0.01157533\n",
      " 0.01216461 0.01278351 0.01343345 0.01411598 0.01483266 0.01558516\n",
      " 0.01637518 0.01720457 0.01807518 0.018989   0.01994809 0.02095457\n",
      " 0.0220107  0.02311881 0.02428131 0.02550074 0.02677974 0.02812103\n",
      " 0.02952747 0.03100199 0.03254769 0.03416773 0.03586542 0.03764417\n",
      " 0.03950754 0.04145915 0.04350282 0.04564242 0.04788198 0.05022566\n",
      " 0.0526777  0.05524249 0.05792452 0.06072839 0.06365881 0.06672059\n",
      " 0.06991864 0.07325795 0.07674359 0.08038068 0.08417442 0.08813007\n",
      " 0.09225291 0.09654816 0.10102116 0.10567714 0.11052132 0.11555889\n",
      " 0.12079486 0.12623422 0.13188177 0.13774216 0.14381982 0.15011896\n",
      " 0.15664352 0.16339715 0.1703831  0.17760433 0.18506336 0.19276223\n",
      " 0.20070249 0.20888518 0.2173108  0.22597924 0.23488964 0.24404058\n",
      " 0.25342998 0.2630549  0.27291176 0.28299606 0.29330277 0.3038257\n",
      " 0.3145582  0.3254925  0.33662033 0.34793234 0.3594184  0.37106797\n",
      " 0.38286936 0.39481056 0.40687853 0.4190601  0.43134102 0.44370702\n",
      " 0.4561431  0.46863422 0.4811647  0.49371895 0.506281   0.5188353\n",
      " 0.53136575 0.54385686 0.55629295 0.568659   0.5809399  0.59312147\n",
      " 0.60518956 0.6171307  0.6289322  0.6405816  0.6520678  0.66337967\n",
      " 0.6745075  0.6854418  0.6961743  0.7066972  0.71700394 0.7270883\n",
      " 0.7369451  0.74657005 0.7559594  0.7651104  0.7740208  0.78268915\n",
      " 0.7911148  0.7992975  0.80723774 0.8149367  0.8223956  0.82961696\n",
      " 0.83660287 0.8433565  0.84988105 0.8561802  0.86225784 0.8681183\n",
      " 0.8737658  0.87920517 0.8844411  0.88947874 0.8943229  0.8989788\n",
      " 0.9034518  0.9077471  0.91186994 0.9158256  0.91961926 0.9232564\n",
      " 0.9267421  0.9300813  0.9332794  0.9363412  0.9392717  0.94207555\n",
      " 0.9447575  0.9473223  0.9497743  0.952118   0.9543576  0.95649713\n",
      " 0.95854086 0.9604925  0.9623558  0.9641346  0.9658323  0.96745235\n",
      " 0.968998   0.9704725  0.97187895 0.9732203  0.9744992  0.97571874\n",
      " 0.9768812  0.97798926 0.9790454  0.9800519  0.981011   0.9819248\n",
      " 0.9827954  0.9836248  0.9844148  0.9851673  0.985884   0.9865666\n",
      " 0.98721653 0.98783535 0.98842466 0.9889858  0.98951983 0.9900283\n",
      " 0.99051243 0.99097323 0.9914118  0.9918292  0.9922266  0.99260473\n",
      " 0.9929646  0.9933072 ]\n"
     ]
    }
   ],
   "source": [
    "y_relu = torch.relu(x).data.numpy()\n",
    "y_sigmoid = torch.sigmoid(x).data.numpy()\n",
    "y_tanh = torch.tanh(x).data.numpy()\n",
    "y_softplus = F.softplus(x).data.numpy()\n",
    "# y_softmax = F.softmax(x)\n",
    "# softmax is a special kind of activation function, it is about probability\n",
    "# and will make the sum as 1.\n",
    "print('relu:\\n', y_relu, '\\nsigmoid:\\n', y_sigmoid)"
   ]
  },
  {
   "cell_type": "markdown",
   "metadata": {},
   "source": [
    "### Plot to visualize these activation function"
   ]
  },
  {
   "cell_type": "code",
   "execution_count": 4,
   "metadata": {},
   "outputs": [],
   "source": [
    "%matplotlib inline"
   ]
  },
  {
   "cell_type": "markdown",
   "metadata": {},
   "source": [
    "Note: 'plt.subplot(221)': subplot grid parameters encoded as a single integer. For example, \"111\" means \"1x1 grid, first subplot\" and \"234\" means \"2x3 grid, 4th subplot\"."
   ]
  },
  {
   "cell_type": "code",
   "execution_count": 5,
   "metadata": {},
   "outputs": [
    {
     "data": {
      "image/png": "[encoded data removed]",
      "text/plain": [
       "<Figure size 576x432 with 4 Axes>"
      ]
     },
     "metadata": {},
     "output_type": "display_data"
    }
   ],
   "source": [
    "plt.figure(1, figsize=(8, 6))\n",
    "plt.subplot(221)\n",
    "plt.plot(x_np, y_relu, c='red', label='relu')\n",
    "plt.ylim((-1, 5))\n",
    "plt.legend(loc='best')\n",
    "\n",
    "plt.subplot(222)\n",
    "plt.plot(x_np, y_sigmoid, c='red', label='sigmoid')\n",
    "plt.ylim((-0.2, 1.2))\n",
    "plt.legend(loc='best')\n",
    "\n",
    "plt.subplot(223)\n",
    "plt.plot(x_np, y_tanh, c='red', label='tanh')\n",
    "plt.ylim((-1.2, 1.2))\n",
    "plt.legend(loc='best')\n",
    "\n",
    "plt.subplot(224)\n",
    "plt.plot(x_np, y_softplus, c='red', label='softplus')\n",
    "plt.ylim((-0.2, 6))\n",
    "plt.legend(loc='best')\n",
    "\n",
    "plt.show()"
   ]
  },
  {
   "cell_type": "code",
   "execution_count": null,
   "metadata": {
    "collapsed": true
   },
   "outputs": [],
   "source": []
  }
 ],
 "metadata": {
  "kernelspec": {
   "display_name": "Python 3",
   "language": "python",
   "name": "python3"
  },
  "language_info": {
   "codemirror_mode": {
    "name": "ipython",
    "version": 3
   },
   "file_extension": ".py",
   "mimetype": "text/x-python",
   "name": "python",
   "nbconvert_exporter": "python",
   "pygments_lexer": "ipython3",
   "version": "3.6.5"
  }
 },
 "nbformat": 4,
 "nbformat_minor": 2
}
